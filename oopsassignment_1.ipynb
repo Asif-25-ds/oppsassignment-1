{
 "cells": [
  {
   "cell_type": "code",
   "execution_count": 1,
   "metadata": {},
   "outputs": [],
   "source": [
    "#ans of question-1\n",
    "class vehicle:\n",
    "    def __init__(self,name_of_vehicle,max_speed,average_of_vehicle):\n",
    "        self.name_of_vehicle=name_of_vehicle\n",
    "        self.max_speed=max_speed\n",
    "        self.average_of_vehicle=average_of_vehicle"
   ]
  },
  {
   "cell_type": "code",
   "execution_count": 2,
   "metadata": {},
   "outputs": [],
   "source": [
    "#ans of ques-2\n",
    "class car(vehicle):\n",
    "    def seating_capacity(self,capacity):\n",
    "        return self.name_of_vehicle\n"
   ]
  },
  {
   "cell_type": "code",
   "execution_count": 13,
   "metadata": {},
   "outputs": [],
   "source": [
    "#ans of ques-3\n",
    "# MULTIPLE INHERITANCE\n",
    "# if a child class inherits multiple classess then the inheritance is multiple\n",
    "class datascience:\n",
    "    def wlcm_msg1(self):\n",
    "        return \"this is my class data science\"\n"
   ]
  },
  {
   "cell_type": "code",
   "execution_count": 14,
   "metadata": {},
   "outputs": [],
   "source": [
    "class web_dev:\n",
    "    def wlcm_msg2(self):\n",
    "        return \"this is my class web dev\""
   ]
  },
  {
   "cell_type": "code",
   "execution_count": 15,
   "metadata": {},
   "outputs": [],
   "source": [
    "class combine(datascience,web_dev):\n",
    "    pass"
   ]
  },
  {
   "cell_type": "code",
   "execution_count": 16,
   "metadata": {},
   "outputs": [],
   "source": [
    "a=combine()"
   ]
  },
  {
   "cell_type": "code",
   "execution_count": 17,
   "metadata": {},
   "outputs": [
    {
     "data": {
      "text/plain": [
       "'this is my class data science'"
      ]
     },
     "execution_count": 17,
     "metadata": {},
     "output_type": "execute_result"
    }
   ],
   "source": [
    "a.wlcm_msg1()"
   ]
  },
  {
   "cell_type": "code",
   "execution_count": 18,
   "metadata": {},
   "outputs": [
    {
     "data": {
      "text/plain": [
       "'this is my class web dev'"
      ]
     },
     "execution_count": 18,
     "metadata": {},
     "output_type": "execute_result"
    }
   ],
   "source": [
    "a.wlcm_msg2()"
   ]
  },
  {
   "cell_type": "code",
   "execution_count": 23,
   "metadata": {},
   "outputs": [],
   "source": [
    "#answer of ques-4\n",
    "#Getter and setter are some methods in python under @property mudule which is used to get and set the data \n",
    "#which is under private orprotected methods .\n",
    "class PNB:\n",
    "    def __init__(self,acc_holder,acc_num,cash_deposit,cash_withdraw,amt_balance):\n",
    "        self.acc_holder=acc_holder\n",
    "        self.__acc_num=acc_num\n",
    "        self.cash_deposit=cash_deposit\n",
    "        self.__cash_withdraw=cash_withdraw\n",
    "        self.__amt_balance=amt_balance\n",
    "\n",
    "    #getter\n",
    "    @property\n",
    "    def acc_balance(self):\n",
    "        return self.__amt_balance\n",
    "    \n",
    "    #setter\n",
    "\n",
    "    @acc_balance.setter\n",
    "    def deposit(self,amt):\n",
    "        self.__cash_withdraw=amt\n",
    "\n",
    "\n"
   ]
  },
  {
   "cell_type": "code",
   "execution_count": 25,
   "metadata": {},
   "outputs": [],
   "source": [
    "#answer of ques-5\n",
    "#mehod overriding is a method in python by which a child class can change \n",
    "#the property of a function which it inherits from its parent class\n",
    "class parent:\n",
    "    def __init__(self):\n",
    "        self.msg=\"parent class\"\n",
    "\n",
    "    def details(self):\n",
    "        print(self.msg)\n"
   ]
  },
  {
   "cell_type": "code",
   "execution_count": 27,
   "metadata": {},
   "outputs": [],
   "source": [
    "class child(parent):\n",
    "    def __init__(self):\n",
    "        self.msg=\"child class\"\n",
    "\n",
    "    def details(self):\n",
    "        print(self.msg)"
   ]
  },
  {
   "cell_type": "code",
   "execution_count": 29,
   "metadata": {},
   "outputs": [],
   "source": [
    "o1=parent()\n",
    "o2=child()"
   ]
  },
  {
   "cell_type": "code",
   "execution_count": 30,
   "metadata": {},
   "outputs": [
    {
     "name": "stdout",
     "output_type": "stream",
     "text": [
      "parent class\n",
      "child class\n"
     ]
    }
   ],
   "source": [
    "o1.details()\n",
    "o2.details()"
   ]
  },
  {
   "cell_type": "code",
   "execution_count": null,
   "metadata": {},
   "outputs": [],
   "source": []
  }
 ],
 "metadata": {
  "kernelspec": {
   "display_name": "Python 3",
   "language": "python",
   "name": "python3"
  },
  "language_info": {
   "codemirror_mode": {
    "name": "ipython",
    "version": 3
   },
   "file_extension": ".py",
   "mimetype": "text/x-python",
   "name": "python",
   "nbconvert_exporter": "python",
   "pygments_lexer": "ipython3",
   "version": "3.11.4"
  },
  "orig_nbformat": 4
 },
 "nbformat": 4,
 "nbformat_minor": 2
}
